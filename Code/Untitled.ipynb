{
 "cells": [
  {
   "cell_type": "code",
   "execution_count": null,
   "id": "aee466eb-61b6-41b9-af85-7f256e0d2c59",
   "metadata": {},
   "outputs": [],
   "source": [
    "from scipy.io import loadmat\n",
    "import networkx as nx\n",
    "import pandas as pd\n",
    "import csv\n",
    "import numpy as np\n",
    "import matplotlib.pyplot as plt\n",
    "from sklearn.cluster import KMeans\n",
    "\n",
    "from sklearn.decomposition import KernelPCA\n",
    "from Functions import *\n",
    "cmap = plt.cm.get_cmap(\"jet\")"
   ]
  },
  {
   "cell_type": "markdown",
   "id": "7a5d1081-363a-4ba4-8b9d-f863bd3647c3",
   "metadata": {},
   "source": [
    "# Load Data"
   ]
  },
  {
   "cell_type": "code",
   "execution_count": null,
   "id": "0c58ac38-c4f8-4b05-8675-6d03262058fb",
   "metadata": {},
   "outputs": [],
   "source": [
    "path = \"./BRSNF_Data/Adj_V4.mat\"\n",
    "name_path= \"./BRSNF_Data/DrugNames_V4.mat\"\n",
    "id_path = \"./BRSNF_Data/DrugId_V4\"\n",
    "\n",
    "data=loadmat(path)\n",
    "name_list=loadmat(name_path)\n",
    "id_drug=loadmat(id_path)\n",
    "\n"
   ]
  },
  {
   "cell_type": "code",
   "execution_count": null,
   "id": "03802fa0-2b8a-477b-862b-982f2786c504",
   "metadata": {},
   "outputs": [],
   "source": [
    "name_list=name_list[\"DrugNames_V4\"]\n",
    "id_drug=id_drug[\"DrugId_V4\"]\n",
    "Adj_V4=data[\"Adj_V4\"]"
   ]
  },
  {
   "cell_type": "code",
   "execution_count": null,
   "id": "bd2b5968-003c-4392-a541-15208b170e47",
   "metadata": {},
   "outputs": [],
   "source": [
    "GV4=nx.from_numpy_matrix(Adj_V4)\n",
    "#name_mapping= {i: name[i] for i in range(len(Gt.nodes))}\n",
    "#GV4= nx.relabel_nodes(GV4, name_mapping)\n",
    "edges,w = zip(*nx.get_edge_attributes(GV4,'weight').items())\n",
    "nx.draw(GV4, with_labels=False, edge_color=w, node_size=10)"
   ]
  },
  {
   "cell_type": "code",
   "execution_count": null,
   "id": "5f2aabc8-77d5-4600-85ec-accbd17a0082",
   "metadata": {},
   "outputs": [],
   "source": [
    "dV4, dV4_all, dV4_pos, dV4_neg = degrees(GV4)\n",
    "\n",
    "DV4= np.diag(dV4)\n",
    "DV4_all = np.diag(dV4_all)\n",
    "DV4_pos = np.diag(dV4_pos)\n",
    "DV4_neg = np.diag(dV4_neg)"
   ]
  },
  {
   "cell_type": "code",
   "execution_count": null,
   "id": "9667ee0f-f657-4dc5-a26d-2ac51a3f3ba3",
   "metadata": {},
   "outputs": [],
   "source": [
    "WV4, WV4_pos, WV4_neg = weights(Adj_V4)"
   ]
  },
  {
   "cell_type": "code",
   "execution_count": null,
   "id": "b0a9e0e9-862f-43b3-aeda-9b90c3fe0fe3",
   "metadata": {},
   "outputs": [],
   "source": [
    "L_BR = D_pos - W_pos + W_neg\n",
    "label_BR = spectral_clustering(L_BR, 2)"
   ]
  },
  {
   "cell_type": "code",
   "execution_count": null,
   "id": "83a45a32-d7d2-4e76-a722-da546bccb6c1",
   "metadata": {},
   "outputs": [],
   "source": [
    "CBI(GV4, label_BR)"
   ]
  },
  {
   "cell_type": "code",
   "execution_count": null,
   "id": "7cde0eb1-03a7-40a8-8a1a-8af4c5fa2f74",
   "metadata": {},
   "outputs": [],
   "source": [
    "min_counts(label_BR)"
   ]
  },
  {
   "cell_type": "code",
   "execution_count": null,
   "id": "7a4ad1ce-bac0-4d64-9b54-8b33d3492837",
   "metadata": {},
   "outputs": [],
   "source": [
    "total_triads=triads(GV4)\n",
    "n_unbalanced=unbalanced_tri(GV4)\n",
    "n_unbalanced/total_triads *100"
   ]
  }
 ],
 "metadata": {
  "kernelspec": {
   "display_name": "Python 3 (ipykernel)",
   "language": "python",
   "name": "python3"
  },
  "language_info": {
   "codemirror_mode": {
    "name": "ipython",
    "version": 3
   },
   "file_extension": ".py",
   "mimetype": "text/x-python",
   "name": "python",
   "nbconvert_exporter": "python",
   "pygments_lexer": "ipython3",
   "version": "3.7.13"
  }
 },
 "nbformat": 4,
 "nbformat_minor": 5
}
