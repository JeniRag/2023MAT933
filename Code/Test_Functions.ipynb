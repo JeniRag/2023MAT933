{
 "cells": [
  {
   "cell_type": "code",
   "execution_count": 1,
   "id": "509cea9e-0934-4bbf-8e03-9ce2795438e6",
   "metadata": {},
   "outputs": [],
   "source": [
    "from scipy.io import loadmat\n",
    "import networkx as nx\n",
    "import pandas as pd\n",
    "import csv\n",
    "import numpy as np\n",
    "import matplotlib.pyplot as plt\n",
    "from Triangles import *"
   ]
  },
  {
   "cell_type": "markdown",
   "id": "5fdd0242-250a-49cc-aec1-3ef7acacdc21",
   "metadata": {},
   "source": [
    "# CBI"
   ]
  },
  {
   "cell_type": "code",
   "execution_count": 2,
   "id": "2f2e8def-5252-4863-8826-b10f5380e91d",
   "metadata": {},
   "outputs": [
    {
     "data": {
      "text/plain": [
       "{('a', 'b'): Text(-0.3923580074984316, 0.33598679468050835, '1'),\n",
       " ('a', 'c'): Text(-0.25150645500964947, 0.28587681408151167, '1'),\n",
       " ('a', 'd'): Text(0.35613553749191884, -0.18868278106686845, '-1'),\n",
       " ('b', 'c'): Text(-0.35613553749191884, 0.18868278106686842, '1')}"
      ]
     },
     "execution_count": 2,
     "metadata": {},
     "output_type": "execute_result"
    },
    {
     "data": {
      "image/png": "[encoded data removed]",
      "text/plain": [
       "<Figure size 640x480 with 1 Axes>"
      ]
     },
     "metadata": {},
     "output_type": "display_data"
    }
   ],
   "source": [
    "# a \"plain\" graph is undirected\n",
    "G = nx.Graph()\n",
    "\n",
    "# give each a node a 'name', which is a letter in this case.\n",
    "G.add_node('a')\n",
    "\n",
    "# the add_nodes_from method allows adding nodes from a sequence, in this case a list\n",
    "nodes_to_add = ['b', 'c', 'd']\n",
    "G.add_nodes_from(nodes_to_add)\n",
    "\n",
    "# add edge from 'a' to 'b'\n",
    "# since this graph is undirected, the order doesn't matter here\n",
    "G.add_edge('a', 'b', weight= 1)\n",
    "G.add_edge(\"b\", \"c\", weight= 1)\n",
    "G.add_edge(\"a\", \"c\", weight= 1)\n",
    "\n",
    "G.add_edge(\"a\", \"d\", weight=-1)\n",
    "\n",
    "# draw the graph\n",
    "pos = nx.spring_layout(G, seed=1)\n",
    "nx.draw(G, pos=pos, with_labels=True )\n",
    "labels = nx.get_edge_attributes(G,'weight')\n",
    "nx.draw_networkx_edge_labels(G,pos,edge_labels=labels)\n",
    "#nx.draw(G, with_labels=True)"
   ]
  },
  {
   "cell_type": "code",
   "execution_count": 3,
   "id": "fc70ee8b-63c1-4731-b15a-66dc9df727e9",
   "metadata": {},
   "outputs": [
    {
     "name": "stdout",
     "output_type": "stream",
     "text": [
      "unbalanced triangels: 0 , 0.0%\n",
      "weakly balanced: 0, 0.0%\n",
      "strongly balanced: 1, 100.0%\n",
      "total triangles: 1\n"
     ]
    },
    {
     "data": {
      "text/plain": [
       "75.0"
      ]
     },
     "execution_count": 3,
     "metadata": {},
     "output_type": "execute_result"
    }
   ],
   "source": [
    "CBI(G, [0,0,0,1])"
   ]
  },
  {
   "cell_type": "code",
   "execution_count": 4,
   "id": "3d046048-39cd-4bce-afdd-dcf91d437fe6",
   "metadata": {},
   "outputs": [
    {
     "name": "stdout",
     "output_type": "stream",
     "text": [
      "unbalanced triangels: 0 , 0.0%\n",
      "weakly balanced: 0, 0.0%\n",
      "strongly balanced: 1, 100.0%\n",
      "total triangles: 1\n"
     ]
    }
   ],
   "source": [
    "assert(CBI(G, [0,0,0,1])==3/4*100)"
   ]
  },
  {
   "cell_type": "code",
   "execution_count": null,
   "id": "4736857b-88cd-4209-a2e5-f68485637369",
   "metadata": {},
   "outputs": [],
   "source": [
    "# a \"plain\" graph is undirected\n",
    "G = nx.Graph()\n",
    "\n",
    "# give each a node a 'name', which is a letter in this case.\n",
    "G.add_node('a')\n",
    "\n",
    "# the add_nodes_from method allows adding nodes from a sequence, in this case a list\n",
    "nodes_to_add = ['b', 'c', 'd']\n",
    "G.add_nodes_from(nodes_to_add)\n",
    "\n",
    "# add edge from 'a' to 'b'\n",
    "# since this graph is undirected, the order doesn't matter here\n",
    "G.add_edge('a', 'b', weight= -1)\n",
    "G.add_edge(\"b\", \"c\", weight= 1)\n",
    "G.add_edge(\"a\", \"c\", weight= 1)\n",
    "\n",
    "G.add_edge(\"a\", \"d\", weight=-1)\n",
    "\n",
    "# draw the graph\n",
    "pos = nx.spring_layout(G, seed=1)\n",
    "nx.draw(G, pos=pos, with_labels=True )\n",
    "labels = nx.get_edge_attributes(G,'weight')\n",
    "nx.draw_networkx_edge_labels(G,pos,edge_labels=labels)\n",
    "#nx.draw(G, with_labels=True)"
   ]
  },
  {
   "cell_type": "code",
   "execution_count": null,
   "id": "0c2f63f2-929a-4db4-8845-a8dccaeec5ce",
   "metadata": {},
   "outputs": [],
   "source": [
    "n_ub, n_wb, n_sb, Ntri = triad_types(G)\n",
    "print(\"unbalanced: {}\".format(n_ub))\n",
    "print(\"weakly balanced: {}\".format(n_wb))\n",
    "print(\"strongly balanced: {}\".format(n_sb))"
   ]
  },
  {
   "cell_type": "code",
   "execution_count": null,
   "id": "696d5f74-a06f-4bc9-8633-9887fb2eb277",
   "metadata": {},
   "outputs": [],
   "source": [
    "assert(CBI(G, [0,0,0,1])==25.0)"
   ]
  },
  {
   "cell_type": "code",
   "execution_count": null,
   "id": "10535a30-d79e-4dd0-851a-50d2974148ed",
   "metadata": {},
   "outputs": [],
   "source": [
    "CBI(G, [0,0,0,1])"
   ]
  },
  {
   "cell_type": "code",
   "execution_count": null,
   "id": "12efcde3-8423-4849-96d8-177fa998d8d7",
   "metadata": {},
   "outputs": [],
   "source": [
    "G.nodes()"
   ]
  },
  {
   "cell_type": "code",
   "execution_count": null,
   "id": "3f61a823-9b93-4fa1-bb1c-87ee5ec865f5",
   "metadata": {},
   "outputs": [],
   "source": []
  }
 ],
 "metadata": {
  "kernelspec": {
   "display_name": "Python 3 (ipykernel)",
   "language": "python",
   "name": "python3"
  },
  "language_info": {
   "codemirror_mode": {
    "name": "ipython",
    "version": 3
   },
   "file_extension": ".py",
   "mimetype": "text/x-python",
   "name": "python",
   "nbconvert_exporter": "python",
   "pygments_lexer": "ipython3",
   "version": "3.7.13"
  }
 },
 "nbformat": 4,
 "nbformat_minor": 5
}
